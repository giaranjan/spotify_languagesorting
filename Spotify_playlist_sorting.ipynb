{
  "nbformat": 4,
  "nbformat_minor": 0,
  "metadata": {
    "colab": {
      "provenance": [],
      "authorship_tag": "ABX9TyOncRDgAiqqUOHqfl4VbvcQ",
      "include_colab_link": true
    },
    "kernelspec": {
      "name": "python3",
      "display_name": "Python 3"
    },
    "language_info": {
      "name": "python"
    }
  },
  "cells": [
    {
      "cell_type": "markdown",
      "metadata": {
        "id": "view-in-github",
        "colab_type": "text"
      },
      "source": [
        "<a href=\"https://colab.research.google.com/github/giaranjan/spotify_languagesorting/blob/main/Spotify_playlist_sorting.ipynb\" target=\"_parent\"><img src=\"https://colab.research.google.com/assets/colab-badge.svg\" alt=\"Open In Colab\"/></a>"
      ]
    },
    {
      "cell_type": "code",
      "execution_count": null,
      "metadata": {
        "id": "xcmxFiCq4SqY"
      },
      "outputs": [],
      "source": [
        "# Install required packages\n",
        "!pip install spotipy boto3"
      ]
    },
    {
      "cell_type": "code",
      "source": [
        "# Import necessary libraries\n",
        "import os\n",
        "import pandas as pd\n",
        "import requests\n",
        "import spotipy\n",
        "from spotipy.oauth2 import SpotifyOAuth\n",
        "import boto3\n",
        "import time"
      ],
      "metadata": {
        "id": "ONIy7FMI4uBq"
      },
      "execution_count": null,
      "outputs": []
    },
    {
      "cell_type": "code",
      "source": [
        "# Spotify credentials and setup\n",
        "spotify_client_id = 'YOUR_CLIENT_ID'\n",
        "spotify_client_secret = 'YOUR_CLIENT_SECRET'\n",
        "redirect_uri = 'http://localhost:8888/callback'\n",
        "os.environ[\"SPOTIPY_CLIENT_ID\"] = spotify_client_id\n",
        "os.environ[\"SPOTIPY_CLIENT_SECRET\"] = spotify_client_secret\n",
        "os.environ[\"SPOTIPY_REDIRECT_URI\"] = redirect_uri"
      ],
      "metadata": {
        "id": "Ij8QRDY_43Yi"
      },
      "execution_count": null,
      "outputs": []
    },
    {
      "cell_type": "code",
      "source": [
        "# Musixmatch API key\n",
        "musixmatch_api_key = \"YOUR_MUSIXMATCH_API_KEY\""
      ],
      "metadata": {
        "id": "OLrVLh4v452_"
      },
      "execution_count": null,
      "outputs": []
    },
    {
      "cell_type": "code",
      "source": [
        "# AWS credentials\n",
        "os.environ['AWS_ACCESS_KEY_ID'] = 'YOUR_AWS_ACCESS_KEY_ID'\n",
        "os.environ['AWS_SECRET_ACCESS_KEY'] = 'YOUR_AWS_SECRET_ACCESS_KEY'\n",
        "os.environ['AWS_DEFAULT_REGION'] = 'us-east-1'"
      ],
      "metadata": {
        "id": "80ajpzIh48nv"
      },
      "execution_count": null,
      "outputs": []
    },
    {
      "cell_type": "code",
      "source": [
        "# Spotify authentication\n",
        "scope = \"user-library-read playlist-modify-public playlist-modify-private\"\n",
        "auth_manager = SpotifyOAuth(scope=scope, show_dialog=True)\n",
        "sp = spotipy.Spotify(auth_manager=auth_manager)"
      ],
      "metadata": {
        "id": "Taf9836J4-7U"
      },
      "execution_count": null,
      "outputs": []
    },
    {
      "cell_type": "code",
      "source": [
        "# Function to get lyrics from Musixmatch\n",
        "def get_lyrics(track_name, artist_name):\n",
        "    url = \"http://api.musixmatch.com/ws/1.1/matcher.lyrics.get\"\n",
        "    params = {\n",
        "        \"q_track\": track_name,\n",
        "        \"q_artist\": artist_name,\n",
        "        \"apikey\": musixmatch_api_key\n",
        "    }\n",
        "    response = requests.get(url, params=params)\n",
        "    if response.status_code == 200:\n",
        "        data = response.json()\n",
        "        if 'message' in data and 'body' in data['message'] and 'lyrics' in data['message']['body'] and 'lyrics_body' in data['message']['body']['lyrics']:\n",
        "            return data['message']['body']['lyrics']['lyrics_body']\n",
        "        else:\n",
        "            return \"Lyrics not found\"\n",
        "    else:\n",
        "        return \"Error: Unable to retrieve lyrics\""
      ],
      "metadata": {
        "id": "zCPf2FXZ5BVp"
      },
      "execution_count": null,
      "outputs": []
    },
    {
      "cell_type": "code",
      "source": [
        "# Function to detect language using AWS Comprehend\n",
        "def detect_language(text):\n",
        "    if text == \"Lyrics not found\" or not text.strip():\n",
        "        return \"UNCERTAIN\"\n",
        "    try:\n",
        "        response = comprehend.detect_dominant_language(Text=text)\n",
        "        if response['Languages']:\n",
        "            return response['Languages'][0]['LanguageCode']\n",
        "        else:\n",
        "            return \"UNCERTAIN\"\n",
        "    except Exception as e:\n",
        "        print(f\"An error occurred: {e}\")\n",
        "        return \"UNCERTAIN\""
      ],
      "metadata": {
        "id": "zuxDONUK5Eh4"
      },
      "execution_count": null,
      "outputs": []
    },
    {
      "cell_type": "code",
      "source": [
        "# Function to handle API requests robustly\n",
        "def robust_spotify_request(call, *args, **kwargs):\n",
        "    while True:\n",
        "        try:\n",
        "            return call(*args, **kwargs)\n",
        "        except spotipy.SpotifyException as e:\n",
        "            if e.http_status == 429:\n",
        "                wait_time = int(e.headers.get('Retry-After', 1))\n",
        "                print(f\"Rate limited. Waiting for {wait_time} seconds before retrying...\")\n",
        "                time.sleep(wait_time)\n",
        "            else:\n",
        "                raise"
      ],
      "metadata": {
        "id": "0hAKJES75HHh"
      },
      "execution_count": null,
      "outputs": []
    },
    {
      "cell_type": "code",
      "source": [
        "# Function to create a playlist and return its ID\n",
        "def create_playlist_for_language(language):\n",
        "    playlist_name = f\"Songs in {language}\" if language != \"UNCERTAIN\" else \"Songs with Uncertain Language\"\n",
        "    playlist_description = f\"Collection of songs in {language} language.\" if language != \"UNCERTAIN\" else \"Songs with language detection uncertain.\"\n",
        "    playlist = robust_spotify_request(sp.user_playlist_create, user=sp.current_user()['id'], name=playlist_name, description=playlist_description)\n",
        "    return playlist['id']"
      ],
      "metadata": {
        "id": "7wD8bIIa5LBU"
      },
      "execution_count": null,
      "outputs": []
    },
    {
      "cell_type": "code",
      "source": [
        "# Function to batch add tracks to a playlist\n",
        "def batch_add_tracks_to_playlist(playlist_id, track_ids):\n",
        "    for i in range(0, len(track_ids), 100):\n",
        "        robust_spotify_request(sp.playlist_add_items, playlist_id, track_ids[i:i+100])"
      ],
      "metadata": {
        "id": "dm8N885A5UCX"
      },
      "execution_count": null,
      "outputs": []
    },
    {
      "cell_type": "code",
      "source": [
        "# Fetch the first 50 liked songs from Spotify\n",
        "results = sp.current_user_saved_tracks(limit=50)"
      ],
      "metadata": {
        "id": "NLiob72W5W2C"
      },
      "execution_count": null,
      "outputs": []
    },
    {
      "cell_type": "code",
      "source": [
        "# List to store song details\n",
        "songs_details = []"
      ],
      "metadata": {
        "id": "Lvdz-1Wr5Y2o"
      },
      "execution_count": null,
      "outputs": []
    },
    {
      "cell_type": "code",
      "source": [
        "# Fetch and store the details for each song\n",
        "for idx, item in enumerate(results['items']):\n",
        "    track = item['track']\n",
        "    artist_name = track['artists'][0]['name']\n",
        "    track_name = track['name']\n",
        "    lyrics = get_lyrics(track_name, artist_name)\n",
        "    songs_details.append({\n",
        "        'song_name': track_name,\n",
        "        'singer': artist_name,\n",
        "        'lyrics': lyrics\n",
        "    })"
      ],
      "metadata": {
        "id": "wqHwHZbz5bIx"
      },
      "execution_count": null,
      "outputs": []
    },
    {
      "cell_type": "code",
      "source": [
        "# Convert the list to a pandas DataFrame\n",
        "songs_df = pd.DataFrame(songs_details)\n",
        "\n",
        "# Apply language detection to the lyrics column\n",
        "songs_df['language'] = songs_df['lyrics'].apply(detect_language)\n",
        "\n",
        "# Add track IDs to the DataFrame\n",
        "songs_df['track_id'] = songs_df.apply(lambda row: get_spotify_track_id(row['song_name'], row['singer']), axis=1)"
      ],
      "metadata": {
        "id": "EnXeRH615fbl"
      },
      "execution_count": null,
      "outputs": []
    },
    {
      "cell_type": "code",
      "source": [
        "# Main process to create playlists for each language\n",
        "language_groups = songs_df.groupby('language')\n",
        "for language, group in language_groups:\n",
        "    print(f\"Creating playlist for language: {language}\")\n",
        "    playlist_id = create_playlist_for_language(language)\n",
        "    print(f\"Playlist created with ID: {playlist_id}\")\n",
        "    track_ids = group['track_id'].dropna().tolist()\n",
        "    if track_ids:\n",
        "        print(f\"Adding {len(track_ids)} tracks to playlist for language: {language}\")\n",
        "        batch_add_tracks_to_playlist(playlist_id, track_ids)\n",
        "        print(f\"Tracks added to playlist for language: {language}\")\n",
        "    else:\n",
        "        print(f\"No tracks to add for language: {language}\")\n",
        "    print(f\"Finished processing for language: {language}\\n\")"
      ],
      "metadata": {
        "id": "FobnZfqV5iol"
      },
      "execution_count": null,
      "outputs": []
    }
  ]
}